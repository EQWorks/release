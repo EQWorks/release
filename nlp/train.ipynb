{
 "cells": [
  {
   "cell_type": "code",
   "execution_count": 3,
   "metadata": {},
   "outputs": [],
   "source": [
    "import os\n",
    "from datetime import datetime\n",
    "\n",
    "import fasttext\n",
    "\n",
    "DIR = os.path.abspath('')\n",
    "\n",
    "\n",
    "def train(tf, vf, size='1M'):\n",
    "    now = datetime.now().strftime('%Y%m%d%H%M')\n",
    "    m = os.path.join(DIR, f'commits-{size.lower()}-{now}.bin')\n",
    "    # auto-tuned model through supervised learning\n",
    "    # and hyper-parameters autotuned through validation file\n",
    "    model = fasttext.train_supervised(\n",
    "        input=tf,\n",
    "        autotuneValidationFile=vf,\n",
    "        autotuneModelSize=size,\n",
    "    )\n",
    "    model.save_model(m)\n",
    "    return m"
   ]
  },
  {
   "cell_type": "code",
   "execution_count": 6,
   "metadata": {},
   "outputs": [
    {
     "data": {
      "text/plain": [
       "'0.9604415893554688 MB'"
      ]
     },
     "execution_count": 6,
     "metadata": {},
     "output_type": "execute_result"
    }
   ],
   "source": [
    "tf = os.path.join(DIR, 'data', 'input.txt')\n",
    "vf = os.path.join(DIR, 'data', 'valid.txt')\n",
    "\n",
    "m = train(tf, vf)\n",
    "f'{os.stat(m).st_size / 1024 / 1024} MB'"
   ]
  },
  {
   "cell_type": "code",
   "execution_count": 7,
   "metadata": {},
   "outputs": [
    {
     "name": "stderr",
     "output_type": "stream",
     "text": [
      "Warning : `load_model` does not return WordVectorModel or SupervisedModel any more, but a `FastText` object which is very similar.\n"
     ]
    },
    {
     "data": {
      "text/plain": [
       "(1689, 0.8052101835405565, 0.8052101835405565)"
      ]
     },
     "execution_count": 7,
     "metadata": {},
     "output_type": "execute_result"
    }
   ],
   "source": [
    "model = fasttext.load_model(m)\n",
    "model.test(vf)"
   ]
  },
  {
   "cell_type": "code",
   "execution_count": 12,
   "metadata": {},
   "outputs": [],
   "source": [
    "def threshold_test(threshold=0.8):\n",
    "    count = 0\n",
    "    below = 0\n",
    "    sf = os.path.join(DIR, 'data', 'snoke')\n",
    "    ff = os.path.join(DIR, 'data', 'firstorder')\n",
    "\n",
    "    with open(sf) as snoke, open(ff) as fo:\n",
    "        for commit in snoke:\n",
    "            count += 1\n",
    "            label, score = model.predict(commit.strip().lower())\n",
    "            if score < threshold:\n",
    "                below += 1\n",
    "\n",
    "        for commit in fo:\n",
    "            count += 1\n",
    "            label, score = model.predict(commit.strip().lower())\n",
    "            if score < threshold:\n",
    "                below += 1\n",
    "    \n",
    "    return below / count"
   ]
  },
  {
   "cell_type": "code",
   "execution_count": 14,
   "metadata": {},
   "outputs": [
    {
     "name": "stdout",
     "output_type": "stream",
     "text": [
      "35.6% below 0.9 confidence\n"
     ]
    }
   ],
   "source": [
    "threshold = 0.9\n",
    "percentage = threshold_test(threshold)\n",
    "\n",
    "print(f'{percentage * 100}% below {threshold} confidence')"
   ]
  },
  {
   "cell_type": "code",
   "execution_count": null,
   "metadata": {},
   "outputs": [],
   "source": []
  }
 ],
 "metadata": {
  "kernelspec": {
   "display_name": "Python 3",
   "language": "python",
   "name": "python3"
  },
  "language_info": {
   "codemirror_mode": {
    "name": "ipython",
    "version": 3
   },
   "file_extension": ".py",
   "mimetype": "text/x-python",
   "name": "python",
   "nbconvert_exporter": "python",
   "pygments_lexer": "ipython3",
   "version": "3.8.2"
  }
 },
 "nbformat": 4,
 "nbformat_minor": 4
}
