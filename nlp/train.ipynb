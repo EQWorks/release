{
 "cells": [
  {
   "cell_type": "code",
   "execution_count": 4,
   "metadata": {},
   "outputs": [],
   "source": [
    "import os\n",
    "\n",
    "import fasttext\n",
    "\n",
    "from train import train, split_train_valid, compare, DIR, DATA_DIR"
   ]
  },
  {
   "cell_type": "code",
   "execution_count": 5,
   "metadata": {},
   "outputs": [],
   "source": [
    "tf, vf = split_train_valid()\n",
    "m = train(tf, vf)"
   ]
  },
  {
   "cell_type": "code",
   "execution_count": 6,
   "metadata": {},
   "outputs": [
    {
     "name": "stderr",
     "output_type": "stream",
     "text": [
      "Warning : `load_model` does not return WordVectorModel or SupervisedModel any more, but a `FastText` object which is very similar.\n",
      "Warning : `load_model` does not return WordVectorModel or SupervisedModel any more, but a `FastText` object which is very similar.\n",
      "Warning : `load_model` does not return WordVectorModel or SupervisedModel any more, but a `FastText` object which is very similar.\n",
      "Warning : `load_model` does not return WordVectorModel or SupervisedModel any more, but a `FastText` object which is very similar.\n"
     ]
    },
    {
     "name": "stdout",
     "output_type": "stream",
     "text": [
      "Better than ref? False\n",
      "{\n",
      "  \"model\": \"commits-1m-202011231606.bin\",\n",
      "  \"size\": 0.921,\n",
      "  \"score\": 0.8210463733650416,\n",
      "  \"score2\": 0.9667260843731432,\n",
      "  \"ref_score\": 0.8230403800475059,\n",
      "  \"threshold\": 0.9,\n",
      "  \"below\": 0.139,\n",
      "  \"ref_below\": 0.193\n",
      "}\n"
     ]
    }
   ],
   "source": [
    "import json\n",
    "\n",
    "ref_vf = os.path.join(DATA_DIR, 'valid.txt')\n",
    "ref_m = os.path.join(DIR, '..', 'bin', 'commits.bin')\n",
    "better, meta = compare(m, ref_m, vf, ref_vf)\n",
    "print('Better than ref?', better)\n",
    "print(json.dumps(meta, indent=2))"
   ]
  },
  {
   "cell_type": "code",
   "execution_count": null,
   "metadata": {},
   "outputs": [],
   "source": []
  }
 ],
 "metadata": {
  "kernelspec": {
   "display_name": "Python 3",
   "language": "python",
   "name": "python3"
  },
  "language_info": {
   "codemirror_mode": {
    "name": "ipython",
    "version": 3
   },
   "file_extension": ".py",
   "mimetype": "text/x-python",
   "name": "python",
   "nbconvert_exporter": "python",
   "pygments_lexer": "ipython3",
   "version": "3.8.2"
  }
 },
 "nbformat": 4,
 "nbformat_minor": 4
}
